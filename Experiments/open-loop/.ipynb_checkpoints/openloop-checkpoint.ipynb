{
 "cells": [
  {
   "cell_type": "code",
   "execution_count": 6,
   "id": "648ec0b6-eb35-441c-ac8f-a6391614c872",
   "metadata": {},
   "outputs": [],
   "source": [
    "import matplotlib.pyplot as plt\n",
    "plt.rcParams.update({\n",
    "    'font.family': 'sans-serif',\n",
    "    'font.sans-serif': ['Arial']\n",
    "})"
   ]
  },
  {
   "cell_type": "code",
   "execution_count": 8,
   "id": "cf8f15af-104c-4d54-830c-0a6f0e8e9355",
   "metadata": {},
   "outputs": [
    {
     "ename": "SyntaxError",
     "evalue": "invalid syntax (2627874730.py, line 43)",
     "output_type": "error",
     "traceback": [
      "\u001b[0;36m  Cell \u001b[0;32mIn [10], line 43\u001b[0;36m\u001b[0m\n\u001b[0;31m    Control Period \\n \\n (d) RTR step size 0.095', fontsize=12)\u001b[0m\n\u001b[0m            ^\u001b[0m\n\u001b[0;31mSyntaxError\u001b[0m\u001b[0;31m:\u001b[0m invalid syntax\n"
     ]
    }
   ],
   "source": [
    "import numpy as np\n",
    "import matplotlib.pyplot as plt\n",
    "\n",
    "# Helper function to read data from a text file and convert to a list of floats\n",
    "def read_data(file_path):\n",
    "    with open(file_path, 'r') as f:\n",
    "        return [float(line.strip()) for line in f.readlines()]\n",
    "\n",
    "# -------------------- Read Data --------------------\n",
    "# Open-loop RTR data\n",
    "open_s1 = read_data('logs/s1.txt')\n",
    "open_s2 = read_data('logs/s2.txt')\n",
    "setpoint1_open = [0.90] * len(open_s1)\n",
    "\n",
    "# Open-loop Period data\n",
    "open_p1 = read_data('logs/p1.txt')\n",
    "open_p2 = read_data('logs/p2.txt')\n",
    "\n",
    "# -------------------- Define x-axis indices --------------------\n",
    "# For RTR plots we use indices 5:50; for open-loop period, we use 0:50\n",
    "idx_rtr = slice(5, 50)\n",
    "idx_period_closed = slice(3, 50)\n",
    "idx_rtr_closed = slice(5, 50)\n",
    "idx_period_closed1 = slice(5, 50)\n",
    "# -------------------- Create 1x4 Subplots --------------------\n",
    "#fig, axs = plt.subplots(1, 4, figsize=(12, 3), sharex=False)\n",
    "fig, axs = plt.subplots(1, 2, figsize=(11, 3), sharex=False)\n",
    "print(open_s1[idx_rtr])\n",
    "# Subplot 0: Open-Loop RTR\n",
    "axs[0].plot(open_s1[idx_rtr], '-', linewidth=2, label='mm')\n",
    "axs[0].plot(open_s2[idx_rtr], '-.', linewidth=2, label='stencil')\n",
    "axs[0].plot(np.array(setpoint1_open)[idx_rtr], '--', linewidth=2, label='Set Point')\n",
    "axs[0].set_ylabel('RTR', fontsize=14)\n",
    "axs[0].set_xlabel('Control Period \\n \\n (a) Open-loop (RTR)', fontsize=12)\n",
    "axs[0].set_ylim([0, 4.5])\n",
    "axs[0].spines['top'].set_visible(False)\n",
    "\n",
    "# Subplot 1: Open-Loop Period\n",
    "axs[1].plot(open_p1[idx_rtr], '-', linewidth=2, label='mm')\n",
    "axs[1].plot(open_p2[idx_rtr], '-.', linewidth=2, label='stencil')\n",
    "axs[1].set_ylabel('Period (sec)', fontsize=14)\n",
    "#axs[1].set_xlabel('Control Period \\n \\n (d) RTR step size 0.095', fontsize=12)\n",
    "axs[1].set_xlabel('Control Period \\n \\n (b) Open-loop (Period)', fontsize=12)\n",
    "axs[1].spines['top'].set_visible(False)\n",
    "\n",
    "\n",
    "for ax in axs:\n",
    "    ax.tick_params(axis='both', labelsize=14)\n",
    "# Create one common legend (using handles from the Open-Loop RTR subplot)\n",
    "handles, labels = axs[0].get_legend_handles_labels()\n",
    "fig.legend(handles, labels, loc='upper center', ncol=4, frameon=True, fontsize=14)\n",
    "\n",
    "# Adjust layout to leave space at the top for the legend\n",
    "plt.tight_layout(rect=[0, 0, 1, 0.88])\n",
    "fig.savefig('figures/openloopfix.pdf', bbox_inches='tight', dpi=300, format='pdf')\n"
   ]
  },
  {
   "cell_type": "code",
   "execution_count": null,
   "id": "5f7d98b1-c7ef-42ef-94d2-59cfbf8e5ecd",
   "metadata": {},
   "outputs": [],
   "source": []
  }
 ],
 "metadata": {
  "kernelspec": {
   "display_name": "Python 3 (ipykernel)",
   "language": "python",
   "name": "python3"
  },
  "language_info": {
   "codemirror_mode": {
    "name": "ipython",
    "version": 3
   },
   "file_extension": ".py",
   "mimetype": "text/x-python",
   "name": "python",
   "nbconvert_exporter": "python",
   "pygments_lexer": "ipython3",
   "version": "3.8.10"
  }
 },
 "nbformat": 4,
 "nbformat_minor": 5
}
